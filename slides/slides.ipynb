{
 "cells": [
  {
   "cell_type": "code",
   "execution_count": 1,
   "metadata": {
    "slideshow": {
     "slide_type": "skip"
    }
   },
   "outputs": [],
   "source": [
    "from IPython.display import display\n",
    "from IPython.display import HTML\n",
    "%matplotlib inline\n",
    "import pandas as pd\n",
    "import numpy as np\n",
    "import matplotlib.pyplot as plt\n",
    "import geopandas as gpd"
   ]
  },
  {
   "cell_type": "markdown",
   "metadata": {
    "slideshow": {
     "slide_type": "slide"
    }
   },
   "source": [
    "<div id=\"background-img-logo-university\" class=\"background-img-top-left\" >\n",
    "    <img src=\"https://upload.wikimedia.org/wikipedia/commons/thumb/4/4e/Universit%C3%A4t_Leipzig_logo.svg/640px-Universit%C3%A4t_Leipzig_logo.svg.png\" style=\"width: 300px;\">\n",
    "</div>\n",
    "\n",
    "<br> \n",
    "# Validity & Fairness in Machine Learning\n",
    "## A ... Perspective?\n",
    "\n",
    "<br>Leipzig, 09.09.2020\n",
    "<br>Christopher Akiki, Alina Mailach, Fabian Dannegger\n",
    "<br>Betreuer: Prof. Dr. Norbert Siegmund\n",
    "<br>Modul: Aktuelle Trends in Data Science\n",
    "\n",
    "\n",
    "\n"
   ]
  },
  {
   "cell_type": "markdown",
   "metadata": {
    "slideshow": {
     "slide_type": "slide"
    }
   },
   "source": [
    "# Agenda\n",
    "<br>\n",
    "\n",
    "- Setting\n",
    "- Motivation & Hypothesis\n",
    "- Exploring the Data\n",
    "- How we solved the problem\n",
    "- Interpretation & Advice\n",
    "- Discussion"
   ]
  },
  {
   "cell_type": "markdown",
   "metadata": {
    "slideshow": {
     "slide_type": "notes"
    }
   },
   "source": [
    "# Presentation-Notes\n",
    "- Build a setting: imagine the following scenario: hired from … to find leading factors for the spread of COVID-19/ evaluate possible political actions\n",
    "- Motivation & hypothesis: \n",
    "    - Super-Spreading Events, American government wants to distribute vaccine? -> headlines \n",
    "    - second wave – how can we avoid the numbers go up again?? -> restrict mobility; mobility leading factor for infections, display it with multi-spreading events (headlines), Heatmap of cases in Germany\n",
    "- Searched for Data… description/statistics of the data – why take this data for our setting/problem \n",
    "- […] (our Solution, Methology/ learning approach, Training, blabla; fake last slide with prognosis, interpretation, suggestions -> would you follow the advice?\n",
    "- Discussion \n",
    "- Re-Analysis, Issues\n",
    "- Summary: how to do it, gold standard// similar flawed analysis on google & twitter\n",
    "<br>\n",
    "Don't forget the Sildes Page numbers!\n",
    "\n",
    "https://www.markroepke.me/posts/2019/06/05/tips-for-slideshows-in-jupyter.html"
   ]
  },
  {
   "cell_type": "markdown",
   "metadata": {
    "slideshow": {
     "slide_type": "notes"
    }
   },
   "source": [
    "# Markdown\n",
    "- **[markdown.de](markdown.de)**: Markdown: Syntax\n",
    "- **[GitHub Guides](https://guides.github.com/features/mastering-markdown/)**: Mastering Markdown\n",
    "- **[Baron Schwartz](https://www.xaprb.com/blog/how-to-style-images-with-markdown/)**: How to Style Images With Markdown\n"
   ]
  },
  {
   "cell_type": "markdown",
   "metadata": {
    "slideshow": {
     "slide_type": "slide"
    }
   },
   "source": [
    "# Setting\n",
    "\n",
    "- Imagine the following scenario:\n",
    "<br>\n",
    "\n",
    "    - The RKI contacts you with the following question:\n",
    "        >What should we do about COVID-19?\n",
    "    \n",
    "    - Can you - as a data scientist - give them some advice?\n",
    "\n",
    "\n",
    "<div id=\"background-img-programmer\" class=\"background-img-bottom-right\" >\n",
    "    <img src=\"https://png2.cleanpng.com/sh/57d2405960afb86ca19eda680fb97f3e/L0KzQYm3V8AzN5RueZH0aYP2gLBuTgBzd5h3ed92ZYKwc7F0kQV1baMyiOR4Z4Lkfb7wjvcudJZmitDybnewc73wkL1ieqUyTdQ8OXO2dYe7gfM2a2YzTKoAMEmzSYe4VcMxPWI3S6cDM0C5Q3B3jvc=/kisspng-programmer-computer-programming-learning-clip-art-5b39c3e64ac5c5.4850909615305123583063.png\" style=\"width: 300px;\">\n",
    "</div>"
   ]
  },
  {
   "cell_type": "markdown",
   "metadata": {
    "slideshow": {
     "slide_type": "slide"
    }
   },
   "source": [
    "# Motivation"
   ]
  },
  {
   "cell_type": "code",
   "execution_count": 2,
   "metadata": {
    "slideshow": {
     "slide_type": "subslide"
    }
   },
   "outputs": [
    {
     "data": {
      "text/html": [
       "<div class=\"flourish-embed flourish-bar-chart-race\" data-src=\"visualisation/1651020\"><script src=\"https://public.flourish.studio/resources/embed.js\"></script></div>"
      ],
      "text/plain": [
       "<IPython.core.display.HTML object>"
      ]
     },
     "metadata": {},
     "output_type": "display_data"
    }
   ],
   "source": [
    "display( HTML('''<div class=\"flourish-embed flourish-bar-chart-race\" data-src=\"visualisation/1651020\"><script src=\"https://public.flourish.studio/resources/embed.js\"></script></div>''' ))"
   ]
  },
  {
   "cell_type": "markdown",
   "metadata": {
    "slideshow": {
     "slide_type": "slide"
    }
   },
   "source": [
    "# Scenario 1: COVID-19 hot spots\n",
    "## Do you remember Ischgl?\n",
    "<br>\n",
    "\n",
    "<div id=\"headlines-ischgl\" >\n",
    "    <img src=\"images/headlines_ischgl/CNN_Ischgl_helped_spread_across_Europe_edit.png\">\n",
    "    <br>\n",
    "    <img src=\"images/headlines_ischgl/Euractiv_Ischgl_Hotspot_edit.png\">\n",
    "    <br>\n",
    "    <img src=\"images/headlines_ischgl/Der_Spiegel_Chronicle_of_Failure_Ischgl_edit.png\">\n",
    "</div>"
   ]
  },
  {
   "cell_type": "markdown",
   "metadata": {
    "slideshow": {
     "slide_type": "slide"
    }
   },
   "source": [
    "# Scenario 1: COVID-19 hot spots\n",
    "## What if there are new hot spots?\n",
    "<br>\n",
    "\n",
    "<div id=\"headlines-second-wave\" >\n",
    "    <img src=\"images/second_wave/Euractiv_Mallorca_second_Ischgl_edit.png\">\n",
    "    <br>\n",
    "    <img src=\"images/second_wave/Der_Spiegel_Second_Wave_edit.png\">\n",
    "    <br>\n",
    "    <img src=\"images/second_wave/Innovation_Origins_Corona_thunders_back_into_Europe_edit.png\">\n",
    "</div>"
   ]
  },
  {
   "cell_type": "markdown",
   "metadata": {
    "slideshow": {
     "slide_type": "notes"
    }
   },
   "source": [
    "# Headlines\n",
    "\n",
    "- **[Innovation Origins](https://innovationorigins.com/the-corona-chart-the-pandemic-thunders-back-into-europe-at-full-speed/)**: The Corona chart: the pandemic thunders back into Europe, at full speed\n",
    "- **[The Sun](https://www.thesun.co.uk/news/12561269/spain-new-europe-hotspot-53000-coronavirus-cases-spreads-faster-than-us/)**: SPAIN PAIN Spain is new ‘Europe hotspot’ with 53,000 coronavirus cases in just a week as it spreads faster than in the US\n",
    "- **[The Sun](https://www.thesun.co.uk/news/12591241/france-europe-covid-hotspot-icu-two-weeks/)**: CRITICAL POINT France becomes Europe’s coronavirus hotspot as it records highest EVER daily case figure\n",
    "- **[Der Spiegel](https://www.spiegel.de/international/world/ischgl-austria-a-corona-hotspot-in-the-alps-spread-virus-across-europe-a-32b17b76-14df-4f37-bfcf-39d2ceee92ec)**: Chronicle of Failure - A Corona Hotspot in the Alps Spread Virus Across Europe\n",
    "- **[Der Spiegel](https://www.spiegel.de/international/germany/the-second-wave-summer-travels-bring-rising-coronavirus-numbers-to-germany-a-69dccbaa-a5ad-4186-aac8-29e6e0428849)**: The Second Wave - Summer Travels Bring Rising Coronavirus Numbers to Germany\n",
    "- **[CNN](https://edition.cnn.com/2020/03/24/europe/austria-ski-resort-ischgl-coronavirus-intl/index.html)**: How an Austrian ski resort helped coronavirus spread across Europe\n",
    "- **[Euractiv](https://www.euractiv.com/section/economy-jobs/news/have-german-tourists-in-mallorca-risked-creating-a-second-ischgl-like-hotspot/)**: Have German tourists in Mallorca created a second Ischgl-like ‘hotspot’?\n",
    "- **[Euractiv](https://www.euractiv.com/section/coronavirus/news/ischgl-oesterreichisches-skiparadies-als-corona-hotspot/)**: How an Austrian ski paradise became a COVID-19 hotspot"
   ]
  },
  {
   "cell_type": "markdown",
   "metadata": {
    "slideshow": {
     "slide_type": "slide"
    }
   },
   "source": [
    "# Hypothesis\n",
    "\n",
    "#### Mobility is a leading factor of COVID-19 infections"
   ]
  },
  {
   "cell_type": "markdown",
   "metadata": {
    "slideshow": {
     "slide_type": "notes"
    }
   },
   "source": [
    "# Heatmap\n",
    "\n",
    "\n",
    "- **[Dr. Juan Camilo Orduz](https://juanitorduz.github.io/germany_plots/)**: Open Data- Germany Maps Viz\n",
    "    - geopandas, pandas, numpy, matplotlib.pyplot\n",
    "- **[Benjamin Cooley](https://towardsdatascience.com/lets-make-a-map-using-geopandas-pandas-and-matplotlib-to-make-a-chloropleth-map-dddc31c1983d)**: Let's make a map! [GitHub](https://github.com/bendoesdata/make-a-map-geopandas/blob/master/Let's%20make%20a%20map!%20Geopandas%20and%20Matplotlib.ipynb)\n",
    "    - geopandas, pandas, numpy, matplotlib.pyplot\n",
    "- **[Geodose](https://www.geodose.com/2020/02/tracking-coronavirus-python-map.html)**: Interactive Coronavirus Spreading Map in Python\n",
    "    - plotly.offline, plotly.graph_objects, pandas\n",
    "- **[Google Fusion Tables](https://support.google.com/fusiontables/answer/2527132?hl=en)**: Create: a map\n",
    "- **[pyGeoDb](https://pypi.org/project/pyGeoDb/)**: It is all about Austrian, German and Swiss *postcodes (ZIPs) and city locations*. documentation is in German language.\n",
    "- **[COVID-19 Tracking Germany](https://www.kaggle.com/headsortails/covid19-tracking-germany)**: Kaggle Project with heatmap [associated blogpost](https://heads0rtai1s.github.io/2020/04/30/animate-map-covid/) **!!! in R !!!**"
   ]
  },
  {
   "cell_type": "markdown",
   "metadata": {
    "slideshow": {
     "slide_type": "slide"
    }
   },
   "source": [
    "# Heatmap"
   ]
  },
  {
   "cell_type": "code",
   "execution_count": 3,
   "metadata": {
    "slideshow": {
     "slide_type": "fragment"
    }
   },
   "outputs": [
    {
     "data": {
      "text/plain": [
       "<AxesSubplot:>"
      ]
     },
     "execution_count": 3,
     "metadata": {},
     "output_type": "execute_result"
    },
    {
     "data": {
      "image/png": "[encoded data removed]",
      "text/plain": [
       "<Figure size 432x288 with 1 Axes>"
      ]
     },
     "metadata": {
      "needs_background": "light"
     },
     "output_type": "display_data"
    }
   ],
   "source": [
    "german_bl_shape = gpd.read_file(\"https://public.opendatasoft.com/explore/dataset/landkreise-in-germany/download/?format=shp&timezone=Europe/Berlin&lang=en\")\n",
    "german_bl_shape.plot()"
   ]
  },
  {
   "cell_type": "markdown",
   "metadata": {
    "slideshow": {
     "slide_type": "slide"
    }
   },
   "source": [
    "# Validity\n",
    "<br>\n",
    "\n",
    "- introduce validity\n",
    "- explain the term, definition & so on"
   ]
  },
  {
   "cell_type": "code",
   "execution_count": null,
   "metadata": {},
   "outputs": [],
   "source": []
  },
  {
   "cell_type": "code",
   "execution_count": null,
   "metadata": {},
   "outputs": [],
   "source": []
  }
 ],
 "metadata": {
  "celltoolbar": "Slideshow",
  "kernelspec": {
   "display_name": "Python 3",
   "language": "python",
   "name": "python3"
  },
  "language_info": {
   "codemirror_mode": {
    "name": "ipython",
    "version": 3
   },
   "file_extension": ".py",
   "mimetype": "text/x-python",
   "name": "python",
   "nbconvert_exporter": "python",
   "pygments_lexer": "ipython3",
   "version": "3.7.6"
  }
 },
 "nbformat": 4,
 "nbformat_minor": 4
}
